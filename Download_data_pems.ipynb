{
 "cells": [
  {
   "cell_type": "code",
   "execution_count": 1,
   "metadata": {},
   "outputs": [],
   "source": [
    "import time\n",
    "import os\n",
    "import numpy as np\n",
    "import pandas as pd\n",
    "import requests\n",
    "import random\n",
    "from fake_useragent import UserAgent\n"
   ]
  },
  {
   "cell_type": "code",
   "execution_count": 18,
   "metadata": {},
   "outputs": [],
   "source": [
    "def down_load_data(save_path, url, fwy, direction, pmstart, pmend):\n",
    "    ua = UserAgent(path='fake_useragent.json')\n",
    "    headers = {'User-Agent': ua.random}\n",
    "    #your PeMS username& password here\n",
    "    data = {'redirect': '',\n",
    "            'username': 'xxxxx',\n",
    "            'password': 'xxxxx',\n",
    "            'login': 'Login'}\n",
    "    # proxies = {\"http\": 'http://' + proxyip, \"https\": 'https://' + proxyip}\n",
    "    session = requests.session()\n",
    "    session.post('https://pems.dot.ca.gov/', headers=headers, data=data)\n",
    "    response = session.get(url)\n",
    "    print(response.status_code)\n",
    "    with open(os.path.join(save_path, str(fwy) +direction+'pm'+ str(pmstart)+'-'+str(pmend)+'.xlsx'), 'wb') as f:\n",
    "        f.write(response.content)\n",
    "        print('succeed in downloading.')\n",
    "\n",
    "# this function takes target freeway, direction, post mile start/end as parameter\n",
    "def get_url(fwy,direction, pmstart,pmend):\n",
    "    \n",
    "    '''url = 'http://pems.dot.ca.gov/?report_form=1&dnode=VDS&content=loops&export=xls&station_id=' + \\\n",
    "          str(vds) + '&s_time_id=' + str(begin) + '&s_time_id_f=' + str(s_begin) + '&e_time_id=' + str(\n",
    "            end) + '&e_time_id_f=' + str(s_end) + '&tod=all&tod_from=0&tod_to=0&dow_0=on&dow_1=on&dow_2=on&dow_3=on&dow_4=on&dow_5=on&dow_6' \\\n",
    "            '=on&holidays=on&q=' + dat_type + '&q2=&gn=5min&agg=on&lane1=on&lane2=on&lane3=on&lane4=on'''\n",
    "    url = 'http://pems.dot.ca.gov/?report_form=1&dnode=Freeway&content=elv&tab=stations&export=xlsx&fwy=' + \\\n",
    "          str(fwy) +'&dir='+str(direction)+'&_time_id=1652099071&_time_id_f=05%2F09%2F2022&'+'&eqpo=&tag=&st_cd=on&st_ch=on&st_ff=on&st_hv=on&st_ml=on&st_fr=on&st_or=on'+'&start_pm='+str(pmstart)+'&end_pm='+str(pmend)\n",
    "    # print(url)\n",
    "    \n",
    "    return url"
   ]
  },
  {
   "cell_type": "code",
   "execution_count": 20,
   "metadata": {},
   "outputs": [
    {
     "name": "stdout",
     "output_type": "stream",
     "text": [
      "200\n",
      "succeed in downloading.\n"
     ]
    }
   ],
   "source": [
    "#example: download data for first HOV site (I-80E) in the excel\n",
    "fwy=80\n",
    "direction='E'\n",
    "pmstart=85\n",
    "pmend=107\n",
    "save_path='D:/'\n",
    "url=get_url(fwy,direction, pmstart,pmend)\n",
    "down_load_data(save_path, url, fwy, direction, pmstart, pmend)"
   ]
  }
 ],
 "metadata": {
  "kernelspec": {
   "display_name": "Python 3",
   "language": "python",
   "name": "python3"
  },
  "language_info": {
   "codemirror_mode": {
    "name": "ipython",
    "version": 3
   },
   "file_extension": ".py",
   "mimetype": "text/x-python",
   "name": "python",
   "nbconvert_exporter": "python",
   "pygments_lexer": "ipython3",
   "version": "3.8.3"
  }
 },
 "nbformat": 4,
 "nbformat_minor": 4
}
