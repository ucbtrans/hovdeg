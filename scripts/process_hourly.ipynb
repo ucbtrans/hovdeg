{
 "cells": [
  {
   "cell_type": "code",
   "execution_count": null,
   "metadata": {
    "pycharm": {
     "name": "#%%\n"
    }
   },
   "outputs": [],
   "source": [
    "import ast\n",
    "from os.path import exists\n",
    "from utils import *"
   ]
  },
  {
   "cell_type": "code",
   "execution_count": null,
   "metadata": {
    "pycharm": {
     "name": "#%%\n"
    }
   },
   "outputs": [],
   "source": [
    "dirname = os.path.dirname(os.path.realpath(\"__file__\"))\n",
    "meta_folder = os.path.join(dirname, '../data/meta')\n",
    "hourly_folder = os.path.join(dirname, '../data/hourly')\n",
    "processed_folder = os.path.join(dirname, '../processed')"
   ]
  },
  {
   "cell_type": "markdown",
   "metadata": {
    "collapsed": false,
    "pycharm": {
     "name": "#%% md\n"
    }
   },
   "source": []
  },
  {
   "cell_type": "markdown",
   "metadata": {
    "collapsed": false,
    "pycharm": {
     "name": "#%% md\n"
    }
   },
   "source": [
    "# Load config"
   ]
  },
  {
   "cell_type": "code",
   "execution_count": null,
   "metadata": {
    "pycharm": {
     "name": "#%%\n"
    }
   },
   "outputs": [],
   "source": [
    "with open('config.txt') as f:\n",
    "    config = ast.literal_eval( f.read() )"
   ]
  },
  {
   "cell_type": "markdown",
   "metadata": {
    "collapsed": false,
    "pycharm": {
     "name": "#%% md\n"
    }
   },
   "source": [
    "# Choose a district, load meta data"
   ]
  },
  {
   "cell_type": "code",
   "execution_count": null,
   "metadata": {
    "pycharm": {
     "name": "#%%\n"
    }
   },
   "outputs": [],
   "source": [
    "with open(os.path.join(processed_folder, 'meta_vds_dict.txt')) as f:\n",
    "    vds_dict = ast.literal_eval( f.read() )\n",
    "\n",
    "my_district = 4 # int(input('Choose a district: {}'.format(vds_dict.keys())))\n",
    "\n",
    "vds_table, all_vdss = load_vds_table(processed_folder,my_district)"
   ]
  },
  {
   "cell_type": "markdown",
   "metadata": {
    "collapsed": false,
    "pycharm": {
     "name": "#%% md\n"
    }
   },
   "source": [
    "# Collect table of files available for the given district"
   ]
  },
  {
   "cell_type": "code",
   "execution_count": null,
   "metadata": {
    "pycharm": {
     "name": "#%%\n"
    }
   },
   "outputs": [],
   "source": [
    "rows = list()\n",
    "for filename in os.listdir(hourly_folder):\n",
    "\n",
    "    file_split = os.path.splitext(filename)\n",
    "\n",
    "    if file_split[1]!='.txt':\n",
    "        continue\n",
    "\n",
    "    a = file_split[0].split(\"_\")\n",
    "    district = int(a[0][1:])\n",
    "    year = int(a[4])\n",
    "    month = int(a[5])\n",
    "\n",
    "    if district!=my_district:\n",
    "        continue\n",
    "\n",
    "    rows.append([district,  year, month, filename])\n",
    "\n",
    "files_table = pd.DataFrame(rows,columns=['district', 'year', 'month','filename'])"
   ]
  },
  {
   "cell_type": "markdown",
   "metadata": {
    "collapsed": false,
    "pycharm": {
     "name": "#%% md\n"
    }
   },
   "source": [
    "# Process each file\n",
    "# Save to {vds}_hourly.csv"
   ]
  },
  {
   "cell_type": "code",
   "execution_count": null,
   "metadata": {
    "pycharm": {
     "name": "#%%\n"
    }
   },
   "outputs": [],
   "source": [
    "if False:\n",
    "\n",
    "    cols = ['timestamp', 'station', 'district', 'route', 'dir', 'lanetype', 'stn_length', 'samples', 'perc_obs',\n",
    "            'total_flow', 'avg_occ', 'avg_speed', 'delay_35', 'delay_40', 'delay_45', 'delay_50', 'delay_55', 'delay_60']\n",
    "\n",
    "    for index, row in files_table.iterrows():\n",
    "\n",
    "        text_file = os.path.join(hourly_folder, row['filename'])\n",
    "\n",
    "        print(text_file)\n",
    "\n",
    "        df = pd.read_csv(text_file, header=None)\n",
    "\n",
    "        nrows, ncols = df.shape\n",
    "\n",
    "        # figure out the header for the file\n",
    "        nlanes = int((ncols-len(cols))/3)\n",
    "        colnames = cols.copy()\n",
    "        flw_cols = []\n",
    "        occ_cols = []\n",
    "        spd_cols = []\n",
    "        for lane in range(nlanes):\n",
    "            colnames.append(f'lane_flw_{lane+1}')\n",
    "            colnames.append(f'lane_avg_occ_{lane+1}')\n",
    "            colnames.append(f'lane_avg_spd_{lane+1}')\n",
    "\n",
    "            flw_cols.append(f'lane_flw_{lane+1}')\n",
    "            occ_cols.append(f'lane_avg_occ_{lane+1}')\n",
    "            spd_cols.append(f'lane_avg_spd_{lane+1}')\n",
    "\n",
    "        df.columns = colnames\n",
    "\n",
    "        # filter all_vdss\n",
    "        ind = [vds in all_vdss for vds in df['station']]\n",
    "        df = df[ind]\n",
    "\n",
    "        # Drop lane information\n",
    "        df = df.drop(columns = flw_cols)\n",
    "        df = df.drop(columns = occ_cols)\n",
    "        df = df.drop(columns = spd_cols)\n",
    "\n",
    "        # Drop other information\n",
    "        df = df.drop(columns=['district','delay_35', 'delay_40', 'delay_45', 'delay_50', 'delay_55', 'delay_60'])\n",
    "\n",
    "        # store in files per vds\n",
    "        for vds in all_vdss:\n",
    "\n",
    "            df_vds = df[df['station']==vds].copy()\n",
    "            df_vds = df_vds.set_index('timestamp')\n",
    "\n",
    "            filename = os.path.join(processed_folder,f'{vds}_hourly.csv')\n",
    "            if exists(filename):\n",
    "                a = pd.read_csv(filename)\n",
    "                a = a.set_index('timestamp')\n",
    "                df_vds = pd.concat((a,df_vds),ignore_index=False)\n",
    "\n",
    "            df_vds.to_csv(filename)\n",
    "\n",
    "    print('done')"
   ]
  },
  {
   "cell_type": "markdown",
   "metadata": {
    "collapsed": false,
    "pycharm": {
     "name": "#%% md\n"
    }
   },
   "source": [
    "# Plot"
   ]
  },
  {
   "cell_type": "code",
   "execution_count": null,
   "metadata": {
    "pycharm": {
     "name": "#%%\n"
    }
   },
   "outputs": [],
   "source": [
    "filename = os.path.join(processed_folder,'400045_hourly.csv')\n",
    "df_vds = pd.read_csv(filename,index_col='timestamp')"
   ]
  },
  {
   "cell_type": "code",
   "execution_count": null,
   "metadata": {
    "pycharm": {
     "name": "#%%\n"
    }
   },
   "outputs": [],
   "source": [
    "df_vds['total_flow'].plot()"
   ]
  },
  {
   "cell_type": "code",
   "execution_count": null,
   "metadata": {
    "pycharm": {
     "name": "#%%\n"
    }
   },
   "outputs": [],
   "source": [
    "df_vds['avg_occ'].plot()"
   ]
  },
  {
   "cell_type": "code",
   "execution_count": null,
   "metadata": {
    "pycharm": {
     "name": "#%%\n"
    }
   },
   "outputs": [],
   "source": [
    "df_vds['avg_speed'].plot()"
   ]
  },
  {
   "cell_type": "markdown",
   "metadata": {
    "collapsed": false,
    "pycharm": {
     "name": "#%% md\n"
    }
   },
   "source": [
    "# Daily station health\n",
    "# Save to vds_health_{cfg_name}.csv"
   ]
  },
  {
   "cell_type": "code",
   "execution_count": null,
   "metadata": {
    "pycharm": {
     "name": "#%%\n"
    }
   },
   "outputs": [],
   "source": [
    "for cfg_name, cfg_vdss in config.items():\n",
    "\n",
    "    print(cfg_name)\n",
    "\n",
    "    # Collect all days from hourly files for these vdss\n",
    "    days_set = set()\n",
    "    for vds in cfg_vdss:\n",
    "\n",
    "        filename = os.path.join(processed_folder,f'{vds}_hourly.csv')\n",
    "        df_vds = pd.read_csv(filename,index_col='timestamp')\n",
    "        days = set(pd.Timestamp(t).date() for t in df_vds.index)\n",
    "        days_set.update(days)\n",
    "\n",
    "    cfg_days = pd.Series(list(days_set))\n",
    "    cfg_days = cfg_days.sort_values()\n",
    "\n",
    "    # vds_health\n",
    "    vds_health = pd.DataFrame(index=cfg_days,columns=cfg_vdss)\n",
    "\n",
    "    for vds in cfg_vdss:\n",
    "\n",
    "        filename = os.path.join(processed_folder,f'{vds}_hourly.csv')\n",
    "        df_vds = pd.read_csv(filename)\n",
    "        df_vds['date'] = [pd.Timestamp(t).date() for t in df_vds['timestamp']]\n",
    "\n",
    "        for day in cfg_days:\n",
    "            ind = df_vds['date']==day\n",
    "            vds_health.loc[day,vds] = df_vds.loc[ind,'perc_obs'].mean(skipna=True)\n",
    "\n",
    "    # Save to file\n",
    "    filename = os.path.join(processed_folder,f'vds_health_{cfg_name}.csv')\n",
    "    vds_health.to_csv(filename)"
   ]
  }
 ],
 "metadata": {
  "kernelspec": {
   "display_name": "Python 3",
   "language": "python",
   "name": "python3"
  },
  "language_info": {
   "codemirror_mode": {
    "name": "ipython",
    "version": 2
   },
   "file_extension": ".py",
   "mimetype": "text/x-python",
   "name": "python",
   "nbconvert_exporter": "python",
   "pygments_lexer": "ipython2",
   "version": "2.7.6"
  }
 },
 "nbformat": 4,
 "nbformat_minor": 0
}
