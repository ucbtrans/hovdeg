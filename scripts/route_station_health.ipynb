{
 "cells": [
  {
   "cell_type": "code",
   "execution_count": null,
   "metadata": {
    "pycharm": {
     "name": "#%%\n"
    }
   },
   "outputs": [],
   "source": [
    "from utils import *\n",
    "processed_folder = get_processed_folder()\n",
    "routes = load_routes()"
   ]
  },
  {
   "cell_type": "markdown",
   "metadata": {
    "collapsed": false,
    "pycharm": {
     "name": "#%% md\n"
    }
   },
   "source": []
  },
  {
   "cell_type": "markdown",
   "metadata": {
    "collapsed": false,
    "pycharm": {
     "name": "#%% md\n"
    }
   },
   "source": [
    "# Daily station health\n",
    "# Save to vds_health_{cfg_name}.csv"
   ]
  },
  {
   "cell_type": "code",
   "execution_count": null,
   "metadata": {
    "pycharm": {
     "name": "#%%\n"
    }
   },
   "outputs": [],
   "source": [
    "for route_name, route_vdss in routes.items():\n",
    "\n",
    "    print(route_name)\n",
    "\n",
    "    # Collect all days from hourly files for these vdss\n",
    "    days_set = set()\n",
    "    for vds in route_vdss:\n",
    "\n",
    "        try:\n",
    "            filename = os.path.join(processed_folder,f'{vds}_hourly.csv')\n",
    "            df_vds = pd.read_csv(filename,index_col='timestamp')\n",
    "            days = set(pd.Timestamp(t).date() for t in df_vds.index)\n",
    "            days_set.update(days)\n",
    "        except:\n",
    "            print(f\"Warning: {vds}_hourly.csv not found.\")\n",
    "\n",
    "    route_days = pd.Series(list(days_set))\n",
    "    route_days = route_days.sort_values()\n",
    "\n",
    "    # vds_health\n",
    "    vds_health = pd.DataFrame(index=route_days, columns=route_vdss)\n",
    "\n",
    "    for vds in route_vdss:\n",
    "\n",
    "        try:\n",
    "            filename = os.path.join(processed_folder,f'{vds}_hourly.csv')\n",
    "            df_vds = pd.read_csv(filename)\n",
    "            df_vds['date'] = [pd.Timestamp(t).date() for t in df_vds['timestamp']]\n",
    "\n",
    "            for day in route_days:\n",
    "                ind = df_vds['date']==day\n",
    "                vds_health.loc[day,vds] = df_vds.loc[ind,'perc_obs'].mean(skipna=True)\n",
    "\n",
    "        except:\n",
    "            print(f\"Warning: {vds}_hourly.csv not found.\")\n",
    "\n",
    "    # Save to file\n",
    "    filename = os.path.join(processed_folder,f'vds_health_{route_name}.csv')\n",
    "    vds_health.to_csv(filename)"
   ]
  }
 ],
 "metadata": {
  "kernelspec": {
   "display_name": "Python 3",
   "language": "python",
   "name": "python3"
  },
  "language_info": {
   "codemirror_mode": {
    "name": "ipython",
    "version": 2
   },
   "file_extension": ".py",
   "mimetype": "text/x-python",
   "name": "python",
   "nbconvert_exporter": "python",
   "pygments_lexer": "ipython2",
   "version": "2.7.6"
  }
 },
 "nbformat": 4,
 "nbformat_minor": 0
}
