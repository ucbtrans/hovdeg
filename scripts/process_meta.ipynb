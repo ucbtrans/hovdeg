{
 "cells": [
  {
   "cell_type": "code",
   "execution_count": null,
   "metadata": {
    "pycharm": {
     "name": "#%%\n"
    }
   },
   "outputs": [],
   "source": [
    "import os\n",
    "import numpy as np\n",
    "import pandas as pd\n",
    "import dill\n",
    "from utils import *\n",
    "\n",
    "import warnings\n",
    "from pandas.core.common import SettingWithCopyWarning\n",
    "\n",
    "warnings.simplefilter(action=\"ignore\", category=SettingWithCopyWarning)"
   ]
  },
  {
   "cell_type": "code",
   "execution_count": null,
   "metadata": {
    "pycharm": {
     "name": "#%%\n"
    }
   },
   "outputs": [],
   "source": [
    "dirname = os.path.dirname(os.path.realpath(\"__file__\"))\n",
    "meta_folder = os.path.join(dirname, '../data/meta')\n",
    "processed_folder = os.path.join(dirname, '../processed')"
   ]
  },
  {
   "cell_type": "markdown",
   "metadata": {
    "pycharm": {
     "name": "#%% md\n"
    }
   },
   "source": [
    "# Load configuration file"
   ]
  },
  {
   "cell_type": "code",
   "execution_count": null,
   "metadata": {
    "pycharm": {
     "name": "#%%\n"
    }
   },
   "outputs": [],
   "source": [
    "routes, all_vdss = load_routes()"
   ]
  },
  {
   "cell_type": "markdown",
   "metadata": {
    "pycharm": {
     "name": "#%% md\n"
    }
   },
   "source": [
    "\n",
    "# Gather list of metadata files.\n",
    "# Save to processed/meta_files.csv"
   ]
  },
  {
   "cell_type": "code",
   "execution_count": null,
   "metadata": {
    "pycharm": {
     "name": "#%%\n"
    }
   },
   "outputs": [],
   "source": [
    "if True:\n",
    "\n",
    "    rows = list()\n",
    "    for filename in os.listdir(meta_folder):\n",
    "\n",
    "        file_split = os.path.splitext(filename)\n",
    "\n",
    "        if file_split[1]!='.txt':\n",
    "            continue\n",
    "\n",
    "        a = file_split[0].split(\"_\")\n",
    "        district = int(a[0][1:])\n",
    "        year = int(a[3])\n",
    "        month = int(a[4])\n",
    "        day = int(a[5])\n",
    "\n",
    "        rows.append([district,  year, month, day, filename])\n",
    "\n",
    "    files_table = pd.DataFrame(rows,columns=['district', 'year', 'month', 'day','filename'])\n",
    "\n",
    "    files_table.to_csv(os.path.join(processed_folder, 'meta_files.csv'))\n",
    "\n",
    "else:\n",
    "    files_table = pd.read_csv(os.path.join(processed_folder, 'meta_files.csv'))"
   ]
  },
  {
   "cell_type": "code",
   "execution_count": null,
   "metadata": {
    "pycharm": {
     "name": "#%%\n"
    }
   },
   "outputs": [],
   "source": [
    "files_table"
   ]
  },
  {
   "cell_type": "markdown",
   "metadata": {
    "collapsed": false,
    "pycharm": {
     "name": "#%% md\n"
    }
   },
   "source": [
    "# Create dictionary of district -> VDS ids.\n",
    "# Save to processed/meta_vds_dict.txt"
   ]
  },
  {
   "cell_type": "code",
   "execution_count": null,
   "metadata": {
    "pycharm": {
     "name": "#%%\n"
    }
   },
   "outputs": [],
   "source": [
    "if True:\n",
    "\n",
    "    vds_dict= dict()\n",
    "\n",
    "    for index, row in files_table.iterrows():\n",
    "\n",
    "        df = pd.read_csv(os.path.join(meta_folder, row['filename']),sep='\\t')\n",
    "        district = df.loc[0,'District']\n",
    "\n",
    "        if district not in vds_dict.keys():\n",
    "            vds_dict[district] = set()\n",
    "\n",
    "        dfvds = set(df['ID'].values)\n",
    "        dfvds = dfvds.intersection(all_vdss)\n",
    "\n",
    "        vds_dict[district] = vds_dict[district].union(dfvds)\n",
    "\n",
    "    with open(os.path.join(processed_folder, 'meta_vds_dict.txt'),'w') as f:\n",
    "        f.write(str(vds_dict))\n",
    "\n",
    "else:\n",
    "\n",
    "    with open(os.path.join(processed_folder, 'meta_vds_dict.txt')) as f:\n",
    "        vds_dict = ast.literal_eval( f.read() )"
   ]
  },
  {
   "cell_type": "code",
   "execution_count": null,
   "metadata": {
    "pycharm": {
     "name": "#%%\n"
    }
   },
   "outputs": [],
   "source": [
    "vds_dict"
   ]
  },
  {
   "cell_type": "markdown",
   "metadata": {
    "collapsed": false,
    "pycharm": {
     "name": "#%% md\n"
    }
   },
   "source": [
    "# Gather meta data history for each VDS\n",
    "# Save as processed/meta_vds_hist_<district>.pickle"
   ]
  },
  {
   "cell_type": "code",
   "execution_count": null,
   "metadata": {
    "pycharm": {
     "name": "#%%\n"
    }
   },
   "outputs": [],
   "source": [
    "if True:\n",
    "\n",
    "    for district, vdss in vds_dict.items():\n",
    "\n",
    "        if len(vdss)==0:\n",
    "            continue\n",
    "\n",
    "        vds_tables = dict.fromkeys(vdss)\n",
    "        district_files = files_table[files_table['district']==district]\n",
    "\n",
    "        for ind, file_row in district_files.iterrows():\n",
    "\n",
    "            year = file_row[1]\n",
    "            month = file_row[2]\n",
    "            day = file_row[3]\n",
    "            filename = file_row[4]\n",
    "\n",
    "            df = pd.read_csv(os.path.join(meta_folder, filename),sep='\\t')\n",
    "\n",
    "            for vds in vds_dict[district]:\n",
    "                dfvds = df.loc[df['ID']==vds,:]\n",
    "                vds_table = vds_tables[vds]\n",
    "\n",
    "                if vds_table is None:\n",
    "                    vds_table = dfvds.copy()\n",
    "                    vds_table.insert(0,'date',pd.Timestamp(year=year,month=month,day=day))\n",
    "                else:\n",
    "                    new_row = dfvds.copy()\n",
    "                    new_row.insert(0,'date',pd.Timestamp(year=year,month=month,day=day))\n",
    "                    vds_table = pd.concat((vds_table,new_row))\n",
    "\n",
    "                vds_tables[vds] = vds_table\n",
    "\n",
    "        # keep differences\n",
    "        for vds, vds_table in vds_tables.items():\n",
    "            vds_table.sort_values('date', inplace=True)\n",
    "            cols = vds_table.columns.values\n",
    "            cols = np.delete(cols, np.where(cols == 'date'))\n",
    "            both_nan = vds_table[cols].shift().isna() & vds_table[cols].isna()\n",
    "            equal_val = vds_table[cols].shift() == vds_table[cols]\n",
    "            vds_tables[vds] = vds_table.loc[~(both_nan | equal_val).all(axis=1)]\n",
    "\n",
    "            # correct State_PM that contain characters\n",
    "            try:\n",
    "                state_pm_str = [str(x) for x in vds_tables[vds]['State_PM']]\n",
    "                vds_tables[vds]['State_PM'] = [float(''.join(x for x in str if not x.isalpha())) for str in state_pm_str]\n",
    "            except:\n",
    "                print(f\"Warning: Cannot cast state PM for vds {vds} to float: {vds_tables[vds]['State_PM']}\")\n",
    "\n",
    "        with open(os.path.join(processed_folder, f'meta_vds_hist_{district}.pickle'),'wb') as f:\n",
    "            dill.dump(vds_tables,f)"
   ]
  },
  {
   "cell_type": "markdown",
   "metadata": {
    "collapsed": false,
    "pycharm": {
     "name": "#%% md\n"
    }
   },
   "source": [
    "# Save as processed/meta_vds_hist_<district>.csv"
   ]
  },
  {
   "cell_type": "code",
   "execution_count": null,
   "metadata": {
    "pycharm": {
     "name": "#%%\n"
    }
   },
   "outputs": [],
   "source": [
    "if True:\n",
    "\n",
    "    for district, vdss in vds_dict.items():\n",
    "\n",
    "        print(district)\n",
    "\n",
    "        if len(vdss)==0:\n",
    "            continue\n",
    "\n",
    "        with open(os.path.join(processed_folder, f'meta_vds_hist_{district}.pickle'),'rb') as f:\n",
    "            vds_tables = dill.load(f)\n",
    "\n",
    "        df = pd.DataFrame()\n",
    "        for vds, vds_table in vds_tables.items():\n",
    "\n",
    "            if len(df)==0:\n",
    "                df = vds_table\n",
    "            else:\n",
    "                df = pd.concat((df,vds_table))\n",
    "\n",
    "        df.to_csv(os.path.join(processed_folder, f'meta_vds_hist_{district}.csv'))"
   ]
  },
  {
   "cell_type": "markdown",
   "metadata": {
    "collapsed": false,
    "pycharm": {
     "name": "#%% md\n"
    }
   },
   "source": [
    "# Check VDS info"
   ]
  },
  {
   "cell_type": "code",
   "execution_count": null,
   "metadata": {
    "pycharm": {
     "name": "#%%\n"
    }
   },
   "outputs": [],
   "source": [
    "if True:\n",
    "\n",
    "    for district, vdss in vds_dict.items():\n",
    "\n",
    "        print(district)\n",
    "\n",
    "        if len(vdss)==0:\n",
    "            continue\n",
    "\n",
    "        with open(os.path.join(processed_folder, f'meta_vds_hist_{district}.pickle'),'rb') as f:\n",
    "            vds_tables = dill.load(f)\n",
    "\n",
    "        for vds, vds_table in vds_tables.items():\n",
    "\n",
    "            if len(np.unique(vds_table['Fwy']))>1:\n",
    "                print(f'WARNING: VDS {vds} has multiple freeways.')\n",
    "\n",
    "            if len(np.unique(vds_table['Dir']))>1:\n",
    "                print(f'WARNING: VDS {vds} has multiple directions.')\n",
    "\n",
    "            if len(np.unique(vds_table['District']))>1:\n",
    "                print(f'WARNING: VDS {vds} has multiple districts.')\n",
    "\n",
    "            if len(np.unique(vds_table['County']))>1:\n",
    "                print(f'WARNING: VDS {vds} has multiple counties.')\n",
    "\n",
    "            if len(np.unique(vds_table['State_PM']))>1:\n",
    "                print(f'WARNING: VDS {vds} has multiple state PMs.')\n",
    "\n",
    "            if len(np.unique(vds_table['Abs_PM']))>1:\n",
    "                print(f'WARNING: VDS {vds} has multiple absolute PMs.')\n",
    "\n",
    "            if len(np.unique(vds_table['Latitude']))>1:\n",
    "                print(f'WARNING: VDS {vds} has multiple latitude.')\n",
    "\n",
    "            if len(np.unique(vds_table['Longitude']))>1:\n",
    "                print(f'WARNING: VDS {vds} has multiple longitude.')\n",
    "\n",
    "            if len(np.unique(vds_table['Type']))>1:\n",
    "                print(f'WARNING: VDS {vds} has multiple type.')\n",
    "\n",
    "            if len(np.unique(vds_table['Lanes']))>1:\n",
    "                print(f'WARNING: VDS {vds} has multiple lanes.')"
   ]
  },
  {
   "cell_type": "code",
   "execution_count": null,
   "metadata": {
    "pycharm": {
     "name": "#%%\n"
    }
   },
   "outputs": [],
   "source": []
  }
 ],
 "metadata": {
  "kernelspec": {
   "display_name": "Python 3 (ipykernel)",
   "language": "python",
   "name": "python3"
  },
  "language_info": {
   "codemirror_mode": {
    "name": "ipython",
    "version": 3
   },
   "file_extension": ".py",
   "mimetype": "text/x-python",
   "name": "python",
   "nbconvert_exporter": "python",
   "pygments_lexer": "ipython3",
   "version": "3.9.12"
  }
 },
 "nbformat": 4,
 "nbformat_minor": 1
}
