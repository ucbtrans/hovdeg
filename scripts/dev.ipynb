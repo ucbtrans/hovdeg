{
 "cells": [
  {
   "cell_type": "code",
   "execution_count": null,
   "metadata": {
    "pycharm": {
     "name": "#%%\n"
    }
   },
   "outputs": [],
   "source": [
    "from utils import *\n",
    "import numpy as np\n",
    "import pandas as pd\n",
    "import datetime\n",
    "import folium"
   ]
  },
  {
   "cell_type": "code",
   "execution_count": null,
   "metadata": {
    "pycharm": {
     "name": "#%%\n"
    }
   },
   "outputs": [],
   "source": [
    "routes, all_vd = load_routes()\n",
    "route = routes['10Epm46-56']"
   ]
  },
  {
   "cell_type": "code",
   "execution_count": null,
   "metadata": {
    "pycharm": {
     "name": "#%%\n"
    }
   },
   "outputs": [],
   "source": [
    "vds_tables = load_vds_tables(get_districts_for_vdss(route))\n",
    "small_table = vds_tables.loc[route]\n",
    "small_table = small_table.sort_values(by='Abs_PM')"
   ]
  },
  {
   "cell_type": "code",
   "execution_count": null,
   "metadata": {
    "pycharm": {
     "name": "#%%\n"
    }
   },
   "outputs": [],
   "source": [
    "map = folium.Map( location=[small_table['Latitude'].mean(),small_table['Longitude'].mean()],\n",
    "                  tiles=\"OpenStreetMap\",\n",
    "                  zoom_start=13)\n",
    "\n",
    "for vds, row in small_table.iterrows():\n",
    "\n",
    "    icon = None\n",
    "    if row['Type']=='HV':\n",
    "        icon=folium.Icon(color=\"green\")\n",
    "    elif row['Type']=='ML':\n",
    "        icon=folium.Icon(color=\"red\")\n",
    "    elif row['Type']=='OR':\n",
    "        icon=folium.Icon(color=\"blue\")\n",
    "    elif row['Type']=='FR':\n",
    "        icon=folium.Icon(color=\"yellow\")\n",
    "    else:\n",
    "        icon=folium.Icon(color=\"black\")\n",
    "\n",
    "    folium.Marker(\n",
    "        location=(row['Latitude'], row['Longitude']),\n",
    "        popup=vds,\n",
    "        icon=icon\n",
    "    ).add_to(map)\n",
    "\n",
    "# Show the map again\n",
    "map"
   ]
  },
  {
   "cell_type": "code",
   "execution_count": null,
   "metadata": {
    "pycharm": {
     "name": "#%%\n"
    }
   },
   "outputs": [],
   "source": []
  },
  {
   "cell_type": "code",
   "execution_count": null,
   "metadata": {
    "pycharm": {
     "name": "#%%\n"
    }
   },
   "outputs": [],
   "source": [
    "\n",
    "# Make an empty map\n",
    "n = folium.Map(location=[20,0], tiles=\"OpenStreetMap\", zoom_start=2)\n",
    "\n",
    "# add marker one by one on the map\n",
    "for i in range(0,len(data)):\n",
    "    folium.Marker(\n",
    "        location=[data.iloc[i]['lat'], data.iloc[i]['lon']],\n",
    "        popup=data.iloc[i]['name'],\n",
    "        icon=folium.DivIcon(html=f\"\"\"<div style=\"font-family: courier new; color: blue\">{data.iloc[i]['name']}</div>\"\"\")\n",
    "    ).add_to(n)\n",
    "\n",
    "# Show the map again\n",
    "n\n"
   ]
  },
  {
   "cell_type": "code",
   "execution_count": null,
   "metadata": {
    "pycharm": {
     "name": "#%%\n"
    }
   },
   "outputs": [],
   "source": [
    "# Make an empty map\n",
    "n = folium.Map(location=[20,0], tiles=\"OpenStreetMap\", zoom_start=2)\n",
    "\n",
    "# add marker one by one on the map\n",
    "for i in range(0,len(data)):\n",
    "    html=f\"\"\"\n",
    "        <h1> {data.iloc[i]['name']}</h1>\n",
    "        <p>You can use any html here! Let's do a list:</p>\n",
    "        <ul>\n",
    "            <li>Item 1</li>\n",
    "            <li>Item 2</li>\n",
    "        </ul>\n",
    "        </p>\n",
    "        <p>And that's a <a href=\"https://www.python-graph-gallery.com\">link</a></p>\n",
    "        \"\"\"\n",
    "    iframe = folium.IFrame(html=html, width=200, height=200)\n",
    "    popup = folium.Popup(iframe, max_width=2650)\n",
    "    folium.Marker(\n",
    "        location=[data.iloc[i]['lat'], data.iloc[i]['lon']],\n",
    "        popup=popup,\n",
    "        icon=folium.DivIcon(html=f\"\"\"\n",
    "            <div><svg>\n",
    "                <circle cx=\"50\" cy=\"50\" r=\"40\" fill=\"#69b3a2\" opacity=\".4\"/>\n",
    "                <rect x=\"35\", y=\"35\" width=\"30\" height=\"30\", fill=\"red\", opacity=\".3\"\n",
    "            </svg></div>\"\"\")\n",
    "    ).add_to(n)\n",
    "\n",
    "# Show the map again\n",
    "n"
   ]
  }
 ],
 "metadata": {
  "kernelspec": {
   "display_name": "Python 3",
   "language": "python",
   "name": "python3"
  },
  "language_info": {
   "codemirror_mode": {
    "name": "ipython",
    "version": 2
   },
   "file_extension": ".py",
   "mimetype": "text/x-python",
   "name": "python",
   "nbconvert_exporter": "python",
   "pygments_lexer": "ipython2",
   "version": "2.7.6"
  }
 },
 "nbformat": 4,
 "nbformat_minor": 0
}
