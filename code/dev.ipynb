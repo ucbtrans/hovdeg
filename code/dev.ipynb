{
 "cells": [
  {
   "cell_type": "code",
   "execution_count": null,
   "metadata": {
    "pycharm": {
     "name": "#%%\n"
    }
   },
   "outputs": [],
   "source": [
    "from utils import *\n",
    "import datetime\n",
    "\n",
    "route_names = load_route_names()\n",
    "route_name = route_names[0]\n",
    "route_vdss = load_ordered_route_vdss_from_excel(route_name)\n",
    "startdate = datetime.date(2019,4,2)\n",
    "enddate = datetime.date(2019,4,10)"
   ]
  },
  {
   "cell_type": "code",
   "execution_count": null,
   "metadata": {
    "pycharm": {
     "name": "#%%\n"
    }
   },
   "outputs": [],
   "source": [
    "route_vdss = load_ordered_route_vdss_from_excel(route_name)\n",
    "route_config = load_route_config(route_name)\n",
    "types_configs = { key:route_config[route_config['Type']==key] for key in ('ML','HV','OR','FR')}\n",
    "\n",
    "route_health = load_route_health(route_name)\n",
    "route_health = route_health.loc[startdate:enddate]\n",
    "route_meas = load_route_meas(route_name, starttime=startdate, endtime=enddate)"
   ]
  },
  {
   "cell_type": "code",
   "execution_count": null,
   "metadata": {
    "pycharm": {
     "name": "#%%\n"
    }
   },
   "outputs": [],
   "source": []
  }
 ],
 "metadata": {
  "kernelspec": {
   "display_name": "Python 3",
   "language": "python",
   "name": "python3"
  },
  "language_info": {
   "codemirror_mode": {
    "name": "ipython",
    "version": 2
   },
   "file_extension": ".py",
   "mimetype": "text/x-python",
   "name": "python",
   "nbconvert_exporter": "python",
   "pygments_lexer": "ipython2",
   "version": "2.7.6"
  }
 },
 "nbformat": 4,
 "nbformat_minor": 0
}
